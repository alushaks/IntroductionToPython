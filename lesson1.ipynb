{
  "nbformat": 4,
  "nbformat_minor": 0,
  "metadata": {
    "colab": {
      "provenance": [],
      "authorship_tag": "ABX9TyOlK9jqdcYETYodZe1wyigy",
      "include_colab_link": true
    },
    "kernelspec": {
      "name": "python3",
      "display_name": "Python 3"
    },
    "language_info": {
      "name": "python"
    }
  },
  "cells": [
    {
      "cell_type": "markdown",
      "metadata": {
        "id": "view-in-github",
        "colab_type": "text"
      },
      "source": [
        "<a href=\"https://colab.research.google.com/github/alushaks/IntroductionToPython/blob/main/lesson1.ipynb\" target=\"_parent\"><img src=\"https://colab.research.google.com/assets/colab-badge.svg\" alt=\"Open In Colab\"/></a>"
      ]
    },
    {
      "cell_type": "code",
      "execution_count": null,
      "metadata": {
        "id": "2Q5TMH-Ck0Aq"
      },
      "outputs": [],
      "source": []
    },
    {
      "cell_type": "markdown",
      "source": [],
      "metadata": {
        "id": "w8KouyAHlMIE"
      }
    },
    {
      "cell_type": "code",
      "source": [],
      "metadata": {
        "id": "Y-7rf5FNlNQr"
      },
      "execution_count": null,
      "outputs": []
    },
    {
      "cell_type": "markdown",
      "source": [
        "Introduction to Python:\n",
        "What is Python?\n",
        "\n",
        "Python is a high-level, interpreted, and general-purpose programming language.\n",
        "It is known for its simplicity, readability, and versatility, making it an excellent choice for beginners and experienced developers alike.\n",
        "Key Features:\n",
        "\n",
        "Readability: Python code is designed to be clear and concise, enhancing readability and reducing the cost of program maintenance.\n",
        "Versatility: Python supports multiple programming paradigms, including procedural, object-oriented, and functional programming.\n",
        "Extensive Libraries: Python has a vast standard library and a rich ecosystem of third-party libraries, making it suitable for various applications.\n",
        "Community Support: Python has a large and active community that contributes to its development and provides support through forums, documentation, and tutorials.\n",
        "Basic Syntax:\n",
        "\n",
        "Python uses indentation for code blocks, eliminating the need for braces or semicolons.\n",
        "Variables are dynamically typed, meaning you don't need to explicitly declare their types.\n",
        "Common data types include integers, floats, strings, lists, tuples, and dictionaries.\n",
        "Hello World Example:"
      ],
      "metadata": {
        "id": "ctJyd74WlVRJ"
      }
    },
    {
      "cell_type": "code",
      "source": [
        "print(\"Hello, World!\")\n"
      ],
      "metadata": {
        "colab": {
          "base_uri": "https://localhost:8080/"
        },
        "id": "av5giQF5lnYh",
        "outputId": "96c434a8-28c7-4ee1-c703-a4b3128a194a"
      },
      "execution_count": 1,
      "outputs": [
        {
          "output_type": "stream",
          "name": "stdout",
          "text": [
            "Hello, World!\n"
          ]
        }
      ]
    }
  ]
}